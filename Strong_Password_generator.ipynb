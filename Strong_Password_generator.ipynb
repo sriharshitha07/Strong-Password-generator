{
  "nbformat": 4,
  "nbformat_minor": 0,
  "metadata": {
    "colab": {
      "provenance": []
    },
    "kernelspec": {
      "name": "python3",
      "display_name": "Python 3"
    },
    "language_info": {
      "name": "python"
    }
  },
  "cells": [
    {
      "cell_type": "code",
      "execution_count": 5,
      "metadata": {
        "colab": {
          "base_uri": "https://localhost:8080/"
        },
        "id": "8KKZ7f26w539",
        "outputId": "c5551b77-47ba-4311-b77d-9e93d442dfee"
      },
      "outputs": [
        {
          "output_type": "stream",
          "name": "stdout",
          "text": [
            "y0:|Aeyg\n"
          ]
        }
      ],
      "source": [
        "\n",
        "import random\n",
        "import array\n",
        "maximumlength = 8\n",
        "DIGITS = ['0', '1', '2', '3', '4', '5', '6', '7', '8', '9']\n",
        "LOCASE_CHARACTERS = ['a', 'b', 'c', 'd', 'e', 'f', 'g', 'h',\n",
        "\t\t\t\t\t'i', 'j', 'k', 'm', 'n', 'o', 'p', 'q',\n",
        "\t\t\t\t\t'r', 's', 't', 'u', 'v', 'w', 'x', 'y',\n",
        "\t\t\t\t\t'z']\n",
        "\n",
        "UPCASE_CHARACTERS = ['A', 'B', 'C', 'D', 'E', 'F', 'G', 'H',\n",
        "\t\t\t\t\t'I', 'J', 'K', 'M', 'N', 'O', 'P', 'Q',\n",
        "\t\t\t\t\t'R', 'S', 'T', 'U', 'V', 'W', 'X', 'Y',\n",
        "\t\t\t\t\t'Z']\n",
        "\n",
        "SYMBOLS = ['@', '#', '$', '%', '=', ':', '?', '.', '/', '|', '~', '>',\n",
        "\t\t'*', '(', ')', '<']\n",
        "Final = DIGITS + UPCASE_CHARACTERS + LOCASE_CHARACTERS + SYMBOLS\n",
        "rand_digit = random.choice(DIGITS)\n",
        "rand_upper = random.choice(UPCASE_CHARACTERS)\n",
        "rand_lower = random.choice(LOCASE_CHARACTERS)\n",
        "rand_symbol = random.choice(SYMBOLS)\n",
        "\n",
        "temp_pass = rand_digit + rand_upper + rand_lower + rand_symbol\n",
        "\n",
        "for x in range(maximumlength - 4):\n",
        "\ttemp_pass = temp_pass + random.choice(Final)\n",
        "\ttemp_pass_list = array.array('u', temp_pass)\n",
        "\trandom.shuffle(temp_pass_list)\n",
        "\n",
        "password = \"\"\n",
        "for x in temp_pass_list:\n",
        "\t\tpassword = password + x\n",
        "\t\n",
        "print(password)\n"
      ]
    },
    {
      "cell_type": "markdown",
      "source": [
        "//strong password generator"
      ],
      "metadata": {
        "id": "HrphErGEyAWs"
      }
    },
    {
      "cell_type": "markdown",
      "source": [],
      "metadata": {
        "id": "xczniOrex-4F"
      }
    }
  ]
}